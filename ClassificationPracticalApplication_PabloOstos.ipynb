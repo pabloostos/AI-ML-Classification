{
 "cells": [
  {
   "cell_type": "markdown",
   "metadata": {},
   "source": [
    "# **SESSION 7 PRACTICAL APPLICATION OF CLASSIFICATION**\n",
    "============================================================================================================================================\n",
    "- Date: 15/02/2023\n",
    "- Student: Pablo Ostos Bollmann\n",
    "- Professor: Pablo Gervás\n",
    "- Master: MCSBT\n",
    "\n",
    "============================================================================================================================================"
   ]
  },
  {
   "cell_type": "markdown",
   "metadata": {},
   "source": [
    "First, we import the necessary libraries "
   ]
  },
  {
   "cell_type": "code",
   "execution_count": 24,
   "metadata": {},
   "outputs": [],
   "source": [
    "import numpy as np\n",
    "from sklearn import datasets\n",
    "import matplotlib.pyplot as plt"
   ]
  },
  {
   "cell_type": "markdown",
   "metadata": {},
   "source": [
    "# **TASKS**"
   ]
  },
  {
   "cell_type": "markdown",
   "metadata": {},
   "source": [
    "### *All tasks are performed over 3 dataseets (iris, wine and marks), and for each of the datasets 3 classifiers are run, then the results are displayed and plotted.*"
   ]
  },
  {
   "cell_type": "markdown",
   "metadata": {},
   "source": [
    "## **TASK1: Loading the Iris data set and at least one other**"
   ]
  },
  {
   "cell_type": "code",
   "execution_count": 25,
   "metadata": {},
   "outputs": [],
   "source": [
    "iris = datasets.load_iris()\n",
    "tot_iris = iris.data\n",
    "\n",
    "wine = datasets.load_wine()\n",
    "tot_wine = wine.data\n",
    "\n",
    "marks = np.loadtxt(\"marks.txt\", delimiter = \",\")"
   ]
  },
  {
   "cell_type": "code",
   "execution_count": 26,
   "metadata": {},
   "outputs": [
    {
     "name": "stdout",
     "output_type": "stream",
     "text": [
      "['sepal length (cm)', 'sepal width (cm)', 'petal length (cm)', 'petal width (cm)']\n",
      "['alcohol', 'malic_acid', 'ash', 'alcalinity_of_ash', 'magnesium', 'total_phenols', 'flavanoids', 'nonflavanoid_phenols', 'proanthocyanins', 'color_intensity', 'hue', 'od280/od315_of_diluted_wines', 'proline']\n"
     ]
    }
   ],
   "source": [
    "print(iris.feature_names)\n",
    "print(wine.feature_names)"
   ]
  },
  {
   "cell_type": "code",
   "execution_count": 27,
   "metadata": {},
   "outputs": [
    {
     "name": "stdout",
     "output_type": "stream",
     "text": [
      "['setosa' 'versicolor' 'virginica']\n",
      "['class_0' 'class_1' 'class_2']\n"
     ]
    }
   ],
   "source": [
    "print(iris.target_names)\n",
    "print(wine.target_names)"
   ]
  },
  {
   "cell_type": "markdown",
   "metadata": {},
   "source": [
    "We have to slice the data in a valid set of columns so that we can perform a simple classification. \n",
    "\n",
    "Because of this, we have to choose just two of the columns in each of the datasets. So for the purpose of this exercise, for the iris dataset, we will just take the first two columns ('sepal length (cm)' and 'sepal width (cm)') and for the wine dataset another two columns ('alcohol' and 'malic_acid')\n",
    "\n",
    "This way, we will be predicting if an observation belongs to a class or not. In the case of the iris dataset, we will be determining if a flower is type setosa (0) or not (1), on the other side we will be determining if a wine belongs to \"class_1' or not"
   ]
  },
  {
   "cell_type": "markdown",
   "metadata": {},
   "source": [
    "## **TASK2: Slicing a valid set of columns for a simple classification task**"
   ]
  },
  {
   "cell_type": "code",
   "execution_count": 28,
   "metadata": {},
   "outputs": [],
   "source": [
    "Xiris = iris.data[:, :2]\n",
    "Yiris = (iris.target != 0) * 1 \n",
    "\n",
    "Xwine = wine.data[:, :2]\n",
    "Ywine = (wine.target != 1) * 1 #wines of class_1\n",
    "\n",
    "Xmarks = marks[:, :2]\n",
    "Ymarks = marks[:, 2:3].astype(int).flatten()"
   ]
  },
  {
   "cell_type": "code",
   "execution_count": 29,
   "metadata": {},
   "outputs": [
    {
     "name": "stdout",
     "output_type": "stream",
     "text": [
      "[0 0 0 1 1 0 1 1 1 1 0 0 1 1 0 1 1 0 1 1 0 1 0 0 1 1 1 0 0 0 1 1 0 1 0 0 0\n",
      " 1 0 0 1 0 1 0 0 0 1 1 1 1 1 1 1 0 0 0 1 0 1 1 1 0 0 0 0 0 1 0 1 1 0 1 1 1\n",
      " 1 1 1 1 0 0 1 1 1 1 1 1 0 1 1 0 1 1 0 1 1 1 1 1 1 1]\n"
     ]
    }
   ],
   "source": [
    "print(Ymarks)"
   ]
  },
  {
   "cell_type": "markdown",
   "metadata": {},
   "source": [
    "We notice iris.data and wine.data give us a numpy array, where each element of the array is another array. What we do is for each element of the numpy array we only take the first two elements of that array. We end up with another numpy array, where each element is a two-element array. \n",
    "\n",
    "Then we store our target variable in Yiris, transforming all boolean elements in iris.target different than 0 and transform in from boolean to integer (*1)\n",
    "\n",
    "For the marks dataset, we just need to differentiate the three columns in target and data. I also transformed the target to an integer so that the learner identifies it as categories 0 and 1"
   ]
  },
  {
   "cell_type": "markdown",
   "metadata": {},
   "source": [
    "## **TASK3: Splitting  into training and test sets**"
   ]
  },
  {
   "cell_type": "markdown",
   "metadata": {},
   "source": [
    "The train-test split procedure is used to estimate the performance of machine learning algorithms when they are used to make predictions on data not used to train the model."
   ]
  },
  {
   "cell_type": "markdown",
   "metadata": {},
   "source": [
    "### **Iris**"
   ]
  },
  {
   "cell_type": "code",
   "execution_count": 30,
   "metadata": {},
   "outputs": [],
   "source": [
    "from sklearn.model_selection import train_test_split\n",
    "\n",
    "Xiris_train, Xiris_test, Yiris_train, Yiris_test = train_test_split(Xiris, Yiris, test_size=0.25, random_state=0)"
   ]
  },
  {
   "cell_type": "markdown",
   "metadata": {},
   "source": [
    "### **Wine**"
   ]
  },
  {
   "cell_type": "code",
   "execution_count": 31,
   "metadata": {},
   "outputs": [],
   "source": [
    "from sklearn.model_selection import train_test_split\n",
    "\n",
    "Xwine_train, Xwine_test, Ywine_train, Ywine_test = train_test_split(Xwine, Ywine, test_size=0.25, random_state=0)"
   ]
  },
  {
   "cell_type": "markdown",
   "metadata": {},
   "source": [
    "### **Marks**"
   ]
  },
  {
   "cell_type": "code",
   "execution_count": 32,
   "metadata": {},
   "outputs": [],
   "source": [
    "from sklearn.model_selection import train_test_split\n",
    "\n",
    "Xmarks_train, Xmarks_test, Ymarks_train, Ymarks_test = train_test_split(Xmarks, Ymarks, test_size=0.25, random_state=0)"
   ]
  },
  {
   "cell_type": "markdown",
   "metadata": {},
   "source": [
    "## **TASK4: Plotting some versions of the data** "
   ]
  },
  {
   "cell_type": "markdown",
   "metadata": {},
   "source": [
    "Function to plot data"
   ]
  },
  {
   "cell_type": "code",
   "execution_count": 33,
   "metadata": {},
   "outputs": [],
   "source": [
    "def plot_data_points(X, y):\n",
    "   plt.figure(figsize=(10, 6))\n",
    "   plt.scatter(X[y == 0][:, 0], X[y == 0][:, 1], color='b', label='0')\n",
    "   plt.scatter(X[y == 1][:, 0], X[y == 1][:, 1], color='r', label='1')\n",
    "   plt.legend();"
   ]
  },
  {
   "cell_type": "markdown",
   "metadata": {},
   "source": [
    "### **Iris**"
   ]
  },
  {
   "cell_type": "code",
   "execution_count": 34,
   "metadata": {},
   "outputs": [
    {
     "data": {
      "image/png": "[encoded data removed]",
      "text/plain": [
       "<Figure size 720x432 with 1 Axes>"
      ]
     },
     "metadata": {
      "needs_background": "light"
     },
     "output_type": "display_data"
    }
   ],
   "source": [
    "plot_data_points(Xiris, Yiris)"
   ]
  },
  {
   "cell_type": "markdown",
   "metadata": {},
   "source": [
    "### **Wine**"
   ]
  },
  {
   "cell_type": "code",
   "execution_count": 35,
   "metadata": {},
   "outputs": [
    {
     "data": {
      "image/png": "[encoded data removed]",
      "text/plain": [
       "<Figure size 720x432 with 1 Axes>"
      ]
     },
     "metadata": {
      "needs_background": "light"
     },
     "output_type": "display_data"
    }
   ],
   "source": [
    "plot_data_points(Xwine, Ywine)"
   ]
  },
  {
   "cell_type": "markdown",
   "metadata": {},
   "source": [
    "### **Marks**"
   ]
  },
  {
   "cell_type": "code",
   "execution_count": 36,
   "metadata": {},
   "outputs": [
    {
     "data": {
      "image/png": "[encoded data removed]",
      "text/plain": [
       "<Figure size 720x432 with 1 Axes>"
      ]
     },
     "metadata": {
      "needs_background": "light"
     },
     "output_type": "display_data"
    }
   ],
   "source": [
    "plot_data_points(Xmarks, Ymarks)"
   ]
  },
  {
   "cell_type": "markdown",
   "metadata": {},
   "source": [
    "By plotting all the dataset we can verify that we can actually use a linear model that separates the observations into two categories. "
   ]
  },
  {
   "cell_type": "markdown",
   "metadata": {},
   "source": [
    "## **TASK5: Running a number of classifiers on it**"
   ]
  },
  {
   "cell_type": "markdown",
   "metadata": {},
   "source": [
    "#### **Importing Classifiers**"
   ]
  },
  {
   "cell_type": "code",
   "execution_count": 37,
   "metadata": {},
   "outputs": [],
   "source": [
    "from sklearn.linear_model import LogisticRegression\n",
    "\n",
    "from sklearn.svm import SVC    \n",
    "\n",
    "from sklearn.naive_bayes import GaussianNB"
   ]
  },
  {
   "cell_type": "markdown",
   "metadata": {},
   "source": [
    "### **Iris**"
   ]
  },
  {
   "cell_type": "markdown",
   "metadata": {},
   "source": [
    "Logistic regression classifier for iris dataset"
   ]
  },
  {
   "cell_type": "code",
   "execution_count": 38,
   "metadata": {},
   "outputs": [
    {
     "name": "stdout",
     "output_type": "stream",
     "text": [
      "[1 1 0 1 0 1 0 1 1 1 1 1 1 1 1 0 1 1 0 0 1 1 0 0 1 0 0 1 1 0 1 1 0 1 1 1 0\n",
      " 1]\n",
      "[-237.08515035] [[ 123.78498766 -143.71788766]]\n"
     ]
    }
   ],
   "source": [
    "iris_modelSKL = LogisticRegression(C=1e20)\n",
    "iris_modelSKL.fit(Xiris_train, Yiris_train)\n",
    "\n",
    "iris_preds_LR = iris_modelSKL.predict(Xiris_test)\n",
    "\n",
    "print(iris_preds_LR)\n",
    "\n",
    "print(iris_modelSKL.intercept_, iris_modelSKL.coef_)"
   ]
  },
  {
   "cell_type": "markdown",
   "metadata": {},
   "source": [
    "SCV Classifier for iris dataset"
   ]
  },
  {
   "cell_type": "code",
   "execution_count": 39,
   "metadata": {},
   "outputs": [],
   "source": [
    "sv_iris_classifier = SVC(kernel='linear', degree=8)  \n",
    "sv_iris_classifier.fit(Xiris_train, Yiris_train)  \n",
    "\n",
    "Yiris_predSVM = sv_iris_classifier.predict(Xiris_test)"
   ]
  },
  {
   "cell_type": "markdown",
   "metadata": {},
   "source": [
    "Naive bayesian classifier for iris"
   ]
  },
  {
   "cell_type": "code",
   "execution_count": 40,
   "metadata": {},
   "outputs": [],
   "source": [
    "gnb_iris = GaussianNB()\n",
    "\n",
    "gnb_iris.fit(Xiris_train, Yiris_train)\n",
    "\n",
    "Yiris_pred_gnb = gnb_iris.predict(Xiris_test)"
   ]
  },
  {
   "cell_type": "markdown",
   "metadata": {},
   "source": [
    "### **Wine**"
   ]
  },
  {
   "cell_type": "markdown",
   "metadata": {},
   "source": [
    "Logistic regression classifier for wine dataset"
   ]
  },
  {
   "cell_type": "code",
   "execution_count": 41,
   "metadata": {},
   "outputs": [
    {
     "name": "stdout",
     "output_type": "stream",
     "text": [
      "[1 1 0 1 1 0 1 1 0 0 1 1 1 0 1 0 1 1 0 1 1 1 1 0 0 0 0 0 0 1 1 1 0 1 1 1 1\n",
      " 0 0 1 1 1 0 0 0]\n",
      "[-45.44717157] [[3.39605497 0.99181454]]\n"
     ]
    }
   ],
   "source": [
    "wine_modelSKL = LogisticRegression(C=1e20)\n",
    "wine_modelSKL.fit(Xwine_train, Ywine_train)\n",
    "\n",
    "wine_preds_LR = wine_modelSKL.predict(Xwine_test)\n",
    "\n",
    "print(wine_preds_LR)\n",
    "\n",
    "print(wine_modelSKL.intercept_, wine_modelSKL.coef_)"
   ]
  },
  {
   "cell_type": "markdown",
   "metadata": {},
   "source": [
    "SCV Classifier for wine dataset"
   ]
  },
  {
   "cell_type": "code",
   "execution_count": 42,
   "metadata": {},
   "outputs": [],
   "source": [
    "sv_wine_classifier = SVC(kernel='linear', degree=8)  \n",
    "sv_wine_classifier.fit(Xwine_train, Ywine_train)  \n",
    "\n",
    "Ywine_predSVM = sv_wine_classifier.predict(Xwine_test)"
   ]
  },
  {
   "cell_type": "markdown",
   "metadata": {},
   "source": [
    "Naive bayesian classifier for wine"
   ]
  },
  {
   "cell_type": "code",
   "execution_count": 43,
   "metadata": {},
   "outputs": [],
   "source": [
    "gnb_wine = GaussianNB()\n",
    "\n",
    "gnb_wine.fit(Xwine_train, Ywine_train)\n",
    "\n",
    "Ywine_pred_gnb = gnb_wine.predict(Xwine_test)"
   ]
  },
  {
   "cell_type": "markdown",
   "metadata": {},
   "source": [
    "### **Marks**"
   ]
  },
  {
   "cell_type": "markdown",
   "metadata": {},
   "source": [
    "Logistic regression classifier for marks dataset"
   ]
  },
  {
   "cell_type": "code",
   "execution_count": 44,
   "metadata": {},
   "outputs": [
    {
     "name": "stdout",
     "output_type": "stream",
     "text": [
      "[0 0 0 0 1 1 0 1 0 1 0 0 0 1 0 1 0 1 0 1 0 0 1 1 0]\n",
      "[-24.18223853] [[0.19162887 0.19514148]]\n"
     ]
    }
   ],
   "source": [
    "marks_modelSKL = LogisticRegression(C=1e20)\n",
    "marks_modelSKL.fit(Xmarks_train, Ymarks_train)\n",
    "\n",
    "marks_preds_LR = marks_modelSKL.predict(Xmarks_test)\n",
    "\n",
    "print(marks_preds_LR)\n",
    "\n",
    "print(marks_modelSKL.intercept_, marks_modelSKL.coef_)"
   ]
  },
  {
   "cell_type": "markdown",
   "metadata": {},
   "source": [
    "SCV Classifier for marks dataset"
   ]
  },
  {
   "cell_type": "code",
   "execution_count": 45,
   "metadata": {},
   "outputs": [],
   "source": [
    "sv_marks_classifier = SVC(kernel='linear', degree=8)  \n",
    "sv_marks_classifier.fit(Xmarks_train, Ymarks_train)  \n",
    "\n",
    "Ymarks_predSVM = sv_marks_classifier.predict(Xmarks_test)"
   ]
  },
  {
   "cell_type": "markdown",
   "metadata": {},
   "source": [
    "We can also try and change the kernel:"
   ]
  },
  {
   "cell_type": "code",
   "execution_count": 67,
   "metadata": {},
   "outputs": [],
   "source": [
    "\n",
    "sv_marks_classifier_poly = SVC(kernel='poly', degree=8)  \n",
    "sv_marks_classifier_poly.fit(Xmarks_train, Ymarks_train)  \n",
    "\n",
    "Ymarks_predSVM_poly = sv_marks_classifier_poly.predict(Xmarks_test) "
   ]
  },
  {
   "cell_type": "markdown",
   "metadata": {},
   "source": [
    "Naive bayesian classifier for marks"
   ]
  },
  {
   "cell_type": "code",
   "execution_count": 47,
   "metadata": {},
   "outputs": [],
   "source": [
    "gnb_marks = GaussianNB()\n",
    "\n",
    "gnb_marks.fit(Xmarks_train, Ymarks_train)\n",
    "\n",
    "Ymarks_pred_gnb = gnb_marks.predict(Xmarks_test)"
   ]
  },
  {
   "cell_type": "markdown",
   "metadata": {},
   "source": [
    "## **TASK6: For each classifier, showing precision, recall and confusion matrix**"
   ]
  },
  {
   "cell_type": "code",
   "execution_count": 48,
   "metadata": {},
   "outputs": [],
   "source": [
    "from sklearn.metrics import classification_report\n",
    "from sklearn import metrics"
   ]
  },
  {
   "cell_type": "markdown",
   "metadata": {},
   "source": [
    "### THEORY: \n",
    "- Confusion matrix: It is a matrix of size 2×2 for binary classification with actual values on one axis and predicted on another. The values of TPR and TNR should be high, and FPR and FNR should be as low as possible.\n",
    "- Out of the total positive, what percentage are predicted positive. It is the same as TPR (true positive rate)."
   ]
  },
  {
   "cell_type": "markdown",
   "metadata": {},
   "source": [
    "### **Iris**"
   ]
  },
  {
   "cell_type": "markdown",
   "metadata": {},
   "source": [
    "Logistic Regression report "
   ]
  },
  {
   "cell_type": "code",
   "execution_count": 49,
   "metadata": {},
   "outputs": [
    {
     "name": "stdout",
     "output_type": "stream",
     "text": [
      "[[13  0]\n",
      " [ 0 25]]\n",
      "              precision    recall  f1-score   support\n",
      "\n",
      "           0       1.00      1.00      1.00        13\n",
      "           1       1.00      1.00      1.00        25\n",
      "\n",
      "    accuracy                           1.00        38\n",
      "   macro avg       1.00      1.00      1.00        38\n",
      "weighted avg       1.00      1.00      1.00        38\n",
      "\n"
     ]
    }
   ],
   "source": [
    "cm_iris_LR = metrics.confusion_matrix(Yiris_test, iris_preds_LR)\n",
    "print(cm_iris_LR)\n",
    "\n",
    "print(classification_report(Yiris_test, iris_preds_LR))"
   ]
  },
  {
   "cell_type": "markdown",
   "metadata": {},
   "source": [
    "Support Vector report"
   ]
  },
  {
   "cell_type": "code",
   "execution_count": 50,
   "metadata": {},
   "outputs": [
    {
     "name": "stdout",
     "output_type": "stream",
     "text": [
      "[[13  0]\n",
      " [ 0 25]]\n",
      "              precision    recall  f1-score   support\n",
      "\n",
      "           0       1.00      1.00      1.00        13\n",
      "           1       1.00      1.00      1.00        25\n",
      "\n",
      "    accuracy                           1.00        38\n",
      "   macro avg       1.00      1.00      1.00        38\n",
      "weighted avg       1.00      1.00      1.00        38\n",
      "\n"
     ]
    }
   ],
   "source": [
    "cm_iris_SV = metrics.confusion_matrix(Yiris_test, Yiris_predSVM)\n",
    "print(cm_iris_SV)\n",
    "\n",
    "print(classification_report(Yiris_test, Yiris_predSVM))"
   ]
  },
  {
   "cell_type": "markdown",
   "metadata": {},
   "source": [
    "Naive Bayesian Report"
   ]
  },
  {
   "cell_type": "code",
   "execution_count": 51,
   "metadata": {},
   "outputs": [
    {
     "name": "stdout",
     "output_type": "stream",
     "text": [
      "[[13  0]\n",
      " [ 0 25]]\n",
      "              precision    recall  f1-score   support\n",
      "\n",
      "           0       1.00      1.00      1.00        13\n",
      "           1       1.00      1.00      1.00        25\n",
      "\n",
      "    accuracy                           1.00        38\n",
      "   macro avg       1.00      1.00      1.00        38\n",
      "weighted avg       1.00      1.00      1.00        38\n",
      "\n"
     ]
    }
   ],
   "source": [
    "cm_iris_gnb = metrics.confusion_matrix(Yiris_test, Yiris_pred_gnb)\n",
    "print(cm_iris_gnb)\n",
    "\n",
    "print(classification_report(Yiris_test, Yiris_pred_gnb))"
   ]
  },
  {
   "cell_type": "markdown",
   "metadata": {},
   "source": [
    "### These results are the most important part of the analysis. We notice that all three classifiers are able to predict perfectly both categories and assign a category to each of the observations. "
   ]
  },
  {
   "cell_type": "markdown",
   "metadata": {},
   "source": [
    "### **Wine**"
   ]
  },
  {
   "cell_type": "markdown",
   "metadata": {},
   "source": [
    "Logistic Regression report "
   ]
  },
  {
   "cell_type": "code",
   "execution_count": 52,
   "metadata": {},
   "outputs": [
    {
     "name": "stdout",
     "output_type": "stream",
     "text": [
      "[[19  2]\n",
      " [ 0 24]]\n",
      "              precision    recall  f1-score   support\n",
      "\n",
      "           0       1.00      0.90      0.95        21\n",
      "           1       0.92      1.00      0.96        24\n",
      "\n",
      "    accuracy                           0.96        45\n",
      "   macro avg       0.96      0.95      0.96        45\n",
      "weighted avg       0.96      0.96      0.96        45\n",
      "\n"
     ]
    }
   ],
   "source": [
    "cm_wine_LR = metrics.confusion_matrix(Ywine_test, wine_preds_LR)\n",
    "print(cm_wine_LR)\n",
    "\n",
    "print(classification_report(Ywine_test, wine_preds_LR))"
   ]
  },
  {
   "cell_type": "markdown",
   "metadata": {},
   "source": [
    "Support Vector report"
   ]
  },
  {
   "cell_type": "code",
   "execution_count": 53,
   "metadata": {},
   "outputs": [
    {
     "name": "stdout",
     "output_type": "stream",
     "text": [
      "[[11  0]\n",
      " [ 3 11]]\n",
      "              precision    recall  f1-score   support\n",
      "\n",
      "           0       0.79      1.00      0.88        11\n",
      "           1       1.00      0.79      0.88        14\n",
      "\n",
      "    accuracy                           0.88        25\n",
      "   macro avg       0.89      0.89      0.88        25\n",
      "weighted avg       0.91      0.88      0.88        25\n",
      "\n"
     ]
    }
   ],
   "source": [
    "cm_marks_SV = metrics.confusion_matrix(Ymarks_test, Ymarks_predSVM)\n",
    "print(cm_marks_SV)\n",
    "\n",
    "print(classification_report(Ymarks_test, Ymarks_predSVM))"
   ]
  },
  {
   "cell_type": "markdown",
   "metadata": {},
   "source": [
    "Naive Bayesian Report"
   ]
  },
  {
   "cell_type": "code",
   "execution_count": 54,
   "metadata": {},
   "outputs": [
    {
     "name": "stdout",
     "output_type": "stream",
     "text": [
      "[[19  2]\n",
      " [ 0 24]]\n",
      "              precision    recall  f1-score   support\n",
      "\n",
      "           0       1.00      0.90      0.95        21\n",
      "           1       0.92      1.00      0.96        24\n",
      "\n",
      "    accuracy                           0.96        45\n",
      "   macro avg       0.96      0.95      0.96        45\n",
      "weighted avg       0.96      0.96      0.96        45\n",
      "\n"
     ]
    }
   ],
   "source": [
    "\n",
    "cm_wine_gnb = metrics.confusion_matrix(Ywine_test, Ywine_pred_gnb)\n",
    "print(cm_wine_gnb)\n",
    "\n",
    "print(classification_report(Ywine_test, Ywine_pred_gnb))"
   ]
  },
  {
   "cell_type": "markdown",
   "metadata": {},
   "source": [
    "### As we can see in the results, both naive bayesian and logistic regression predict perfectly the negative cases, but produce 2 false negatives. While the SVM madel predicts perfectly the positive cases while producing 2 false positives. "
   ]
  },
  {
   "cell_type": "markdown",
   "metadata": {},
   "source": [
    "### **Marks**"
   ]
  },
  {
   "cell_type": "markdown",
   "metadata": {},
   "source": [
    "Logistic Regression report "
   ]
  },
  {
   "cell_type": "code",
   "execution_count": 55,
   "metadata": {},
   "outputs": [
    {
     "name": "stdout",
     "output_type": "stream",
     "text": [
      "[[11  0]\n",
      " [ 4 10]]\n",
      "              precision    recall  f1-score   support\n",
      "\n",
      "           0       0.73      1.00      0.85        11\n",
      "           1       1.00      0.71      0.83        14\n",
      "\n",
      "    accuracy                           0.84        25\n",
      "   macro avg       0.87      0.86      0.84        25\n",
      "weighted avg       0.88      0.84      0.84        25\n",
      "\n"
     ]
    }
   ],
   "source": [
    "cm_marks_LR = metrics.confusion_matrix(Ymarks_test, marks_preds_LR)\n",
    "print(cm_marks_LR)\n",
    "\n",
    "print(classification_report(Ymarks_test, marks_preds_LR))"
   ]
  },
  {
   "cell_type": "markdown",
   "metadata": {},
   "source": [
    "Support Vector report"
   ]
  },
  {
   "cell_type": "code",
   "execution_count": 56,
   "metadata": {},
   "outputs": [
    {
     "name": "stdout",
     "output_type": "stream",
     "text": [
      "[[11  0]\n",
      " [ 3 11]]\n",
      "              precision    recall  f1-score   support\n",
      "\n",
      "           0       0.79      1.00      0.88        11\n",
      "           1       1.00      0.79      0.88        14\n",
      "\n",
      "    accuracy                           0.88        25\n",
      "   macro avg       0.89      0.89      0.88        25\n",
      "weighted avg       0.91      0.88      0.88        25\n",
      "\n"
     ]
    }
   ],
   "source": [
    "cm_marks_SV = metrics.confusion_matrix(Ymarks_test, Ymarks_predSVM)\n",
    "print(cm_marks_SV)\n",
    "\n",
    "print(classification_report(Ymarks_test, Ymarks_predSVM))"
   ]
  },
  {
   "cell_type": "code",
   "execution_count": 68,
   "metadata": {},
   "outputs": [
    {
     "name": "stdout",
     "output_type": "stream",
     "text": [
      "[[11  0]\n",
      " [ 0 14]]\n",
      "              precision    recall  f1-score   support\n",
      "\n",
      "           0       1.00      1.00      1.00        11\n",
      "           1       1.00      1.00      1.00        14\n",
      "\n",
      "    accuracy                           1.00        25\n",
      "   macro avg       1.00      1.00      1.00        25\n",
      "weighted avg       1.00      1.00      1.00        25\n",
      "\n"
     ]
    }
   ],
   "source": [
    "cm_marks_SV_poly = metrics.confusion_matrix(Ymarks_test, Ymarks_predSVM_poly)\n",
    "print(cm_marks_SV_poly)\n",
    "\n",
    "print(classification_report(Ymarks_test, Ymarks_predSVM_poly))"
   ]
  },
  {
   "cell_type": "markdown",
   "metadata": {},
   "source": [
    "Naive Bayesian Report"
   ]
  },
  {
   "cell_type": "code",
   "execution_count": 57,
   "metadata": {},
   "outputs": [
    {
     "name": "stdout",
     "output_type": "stream",
     "text": [
      "[[11  0]\n",
      " [ 2 12]]\n",
      "              precision    recall  f1-score   support\n",
      "\n",
      "           0       0.85      1.00      0.92        11\n",
      "           1       1.00      0.86      0.92        14\n",
      "\n",
      "    accuracy                           0.92        25\n",
      "   macro avg       0.92      0.93      0.92        25\n",
      "weighted avg       0.93      0.92      0.92        25\n",
      "\n"
     ]
    }
   ],
   "source": [
    "cm_marks_gnb = metrics.confusion_matrix(Ymarks_test, Ymarks_pred_gnb)\n",
    "print(cm_marks_gnb)\n",
    "\n",
    "print(classification_report(Ymarks_test, Ymarks_pred_gnb))"
   ]
  },
  {
   "cell_type": "markdown",
   "metadata": {},
   "source": [
    "### For the marks dataset we notice all models predict perfectly the positive cases while producing some false positives. Another consideration to make is the improvement that changing the kernel from linear to poly makes, having a perfect precision with the poly kernel. "
   ]
  },
  {
   "cell_type": "markdown",
   "metadata": {},
   "source": [
    "## **TASK7: For classifiers that involve a boundary line, plotting** "
   ]
  },
  {
   "cell_type": "markdown",
   "metadata": {},
   "source": [
    "We will be plotting the line for the logistic regression"
   ]
  },
  {
   "cell_type": "code",
   "execution_count": 58,
   "metadata": {},
   "outputs": [],
   "source": [
    "def plotting_data_with_boundary3(X,y,b,w1,w2):\n",
    "    # plot result\n",
    "    plt.figure(figsize=(10, 6))\n",
    "    plt.scatter(X[y == 0][:, 0], X[y == 0][:, 1], color='b', label='0')\n",
    "    plt.scatter(X[y == 1][:, 0], X[y == 1][:, 1], color='r', label='1')\n",
    "    plt.legend()\n",
    "    \n",
    "    # Calculate the intercept and gradient of the decision boundary.\n",
    "    c = -b/w2\n",
    "    m = -w1/w2\n",
    "    \n",
    "    xmin = X[:,0].min()\n",
    "    xmax = X[:,0].max()\n",
    "    \n",
    "    xd = np.array([xmin, xmax])\n",
    "    yd = m*xd + c\n",
    "    \n",
    "    plt.plot(xd, yd, 'k', lw=1, ls='--')"
   ]
  },
  {
   "cell_type": "markdown",
   "metadata": {},
   "source": [
    "### **Iris**"
   ]
  },
  {
   "cell_type": "code",
   "execution_count": 59,
   "metadata": {},
   "outputs": [
    {
     "data": {
      "image/png": "[encoded data removed]",
      "text/plain": [
       "<Figure size 720x432 with 1 Axes>"
      ]
     },
     "metadata": {
      "needs_background": "light"
     },
     "output_type": "display_data"
    }
   ],
   "source": [
    "plotting_data_with_boundary3(Xiris,Yiris,iris_modelSKL.intercept_[0],iris_modelSKL.coef_.T[0],iris_modelSKL.coef_.T[1])"
   ]
  },
  {
   "cell_type": "markdown",
   "metadata": {},
   "source": [
    "### **Wine**"
   ]
  },
  {
   "cell_type": "code",
   "execution_count": 60,
   "metadata": {},
   "outputs": [
    {
     "data": {
      "image/png": "[encoded data removed]",
      "text/plain": [
       "<Figure size 720x432 with 1 Axes>"
      ]
     },
     "metadata": {
      "needs_background": "light"
     },
     "output_type": "display_data"
    }
   ],
   "source": [
    "plotting_data_with_boundary3(Xwine,Ywine,wine_modelSKL.intercept_[0],wine_modelSKL.coef_.T[0],wine_modelSKL.coef_.T[1])"
   ]
  },
  {
   "cell_type": "markdown",
   "metadata": {},
   "source": [
    "### **Marks**"
   ]
  },
  {
   "cell_type": "code",
   "execution_count": 61,
   "metadata": {},
   "outputs": [
    {
     "data": {
      "image/png": "[encoded data removed]",
      "text/plain": [
       "<Figure size 720x432 with 1 Axes>"
      ]
     },
     "metadata": {
      "needs_background": "light"
     },
     "output_type": "display_data"
    }
   ],
   "source": [
    "plotting_data_with_boundary3(Xmarks,Ymarks,marks_modelSKL.intercept_[0],marks_modelSKL.coef_.T[0],marks_modelSKL.coef_.T[1])"
   ]
  },
  {
   "cell_type": "markdown",
   "metadata": {},
   "source": [
    "## **TASK8: For classifiers that involve support vectors, plotting them**"
   ]
  },
  {
   "cell_type": "markdown",
   "metadata": {},
   "source": [
    "Now we will do the same with the sv model "
   ]
  },
  {
   "cell_type": "code",
   "execution_count": 62,
   "metadata": {},
   "outputs": [],
   "source": [
    "def plotting_data_with_boundary_sv(X,y,b,w1,w2,support_vectors):\n",
    "    # plot result\n",
    "    plt.figure(figsize=(10, 6))\n",
    "    plt.scatter(X[y == 0][:, 0], X[y == 0][:, 1], color='b', label='0')\n",
    "    plt.scatter(X[y == 1][:, 0], X[y == 1][:, 1], color='r', label='1')\n",
    "    plt.legend()\n",
    "    \n",
    "    # Calculate the intercept and gradient of the decision boundary.\n",
    "    c = -b/w2\n",
    "    m = -w1/w2\n",
    "    \n",
    "    xmin = X[:,0].min()\n",
    "    xmax = X[:,0].max()\n",
    "    \n",
    "    xd = np.array([xmin, xmax])\n",
    "    yd = m*xd + c\n",
    "    \n",
    "    plt.plot(xd, yd, 'k', lw=1, ls='--')\n",
    "    \n",
    "    print(support_vectors[:, 0])    \n",
    "    print(support_vectors[:, 1])\n",
    "    \n",
    "    plt.scatter(support_vectors[:, 0],\n",
    "                   support_vectors[:, 1],\n",
    "                   s=30, linewidth=1, color='y', label='SV');\n",
    "    \n",
    "    "
   ]
  },
  {
   "cell_type": "markdown",
   "metadata": {},
   "source": [
    "### **Iris**"
   ]
  },
  {
   "cell_type": "code",
   "execution_count": 63,
   "metadata": {},
   "outputs": [
    {
     "data": {
      "image/png": "[encoded data removed]",
      "text/plain": [
       "<Figure size 720x432 with 1 Axes>"
      ]
     },
     "metadata": {
      "needs_background": "light"
     },
     "output_type": "display_data"
    }
   ],
   "source": [
    "plotting_data_with_boundary3(Xiris_train,Yiris_train,sv_iris_classifier.intercept_[0],sv_iris_classifier.coef_.T[0],sv_iris_classifier.coef_.T[1])"
   ]
  },
  {
   "cell_type": "markdown",
   "metadata": {},
   "source": [
    "### **Wine**"
   ]
  },
  {
   "cell_type": "code",
   "execution_count": 64,
   "metadata": {},
   "outputs": [
    {
     "data": {
      "image/png": "[encoded data removed]",
      "text/plain": [
       "<Figure size 720x432 with 1 Axes>"
      ]
     },
     "metadata": {
      "needs_background": "light"
     },
     "output_type": "display_data"
    }
   ],
   "source": [
    "plotting_data_with_boundary3(Xwine_train,Ywine_train,sv_wine_classifier.intercept_[0],sv_wine_classifier.coef_.T[0],sv_wine_classifier.coef_.T[1])"
   ]
  },
  {
   "cell_type": "markdown",
   "metadata": {},
   "source": [
    "### **Marks**"
   ]
  },
  {
   "cell_type": "code",
   "execution_count": 65,
   "metadata": {},
   "outputs": [
    {
     "data": {
      "image/png": "[encoded data removed]",
      "text/plain": [
       "<Figure size 720x432 with 1 Axes>"
      ]
     },
     "metadata": {
      "needs_background": "light"
     },
     "output_type": "display_data"
    }
   ],
   "source": [
    "plotting_data_with_boundary3(Xmarks_train,Ymarks_train,sv_marks_classifier.intercept_[0],sv_marks_classifier.coef_.T[0],sv_marks_classifier.coef_.T[1])"
   ]
  },
  {
   "cell_type": "code",
   "execution_count": 66,
   "metadata": {},
   "outputs": [
    {
     "name": "stdout",
     "output_type": "stream",
     "text": [
      "[93.1143888  74.78925296 95.86155507 32.57720017 82.22666158 52.10797973\n",
      " 39.53833914 33.91550011 90.54671411 76.97878373 55.34001756 66.74671857\n",
      " 50.4581598  62.27101367 57.23870632 84.43281996 42.26170081]\n",
      "[38.80067034 41.57341523 38.22527806 95.59854761 42.71987854 63.12762377\n",
      " 76.03681085 98.86943574 43.39060181 47.57596365 64.93193801 60.99139403\n",
      " 75.80985953 69.95445795 59.51428198 43.53339331 87.10385094]\n"
     ]
    },
    {
     "data": {
      "image/png": "[encoded data removed]",
      "text/plain": [
       "<Figure size 720x432 with 1 Axes>"
      ]
     },
     "metadata": {
      "needs_background": "light"
     },
     "output_type": "display_data"
    }
   ],
   "source": [
    "\n",
    "plotting_data_with_boundary_sv(Xmarks_train,Ymarks_train,sv_marks_classifier.intercept_[0],sv_marks_classifier.coef_.T[0],sv_marks_classifier.coef_.T[1], sv_marks_classifier.support_vectors_)"
   ]
  }
 ],
 "metadata": {
  "kernelspec": {
   "display_name": "Python 3.9.12 ('base')",
   "language": "python",
   "name": "python3"
  },
  "language_info": {
   "codemirror_mode": {
    "name": "ipython",
    "version": 3
   },
   "file_extension": ".py",
   "mimetype": "text/x-python",
   "name": "python",
   "nbconvert_exporter": "python",
   "pygments_lexer": "ipython3",
   "version": "3.9.12"
  },
  "orig_nbformat": 4,
  "vscode": {
   "interpreter": {
    "hash": "dc3f44e010abd26ab046284901ce9509711ac3cc1e8fdd0965c6a2a3e20ab15a"
   }
  }
 },
 "nbformat": 4,
 "nbformat_minor": 2
}
